{
  "nbformat": 4,
  "nbformat_minor": 0,
  "metadata": {
    "colab": {
      "name": "Recommender Systems.ipynb",
      "provenance": [],
      "authorship_tag": "ABX9TyPs9zLHuLKuz6INu9l7gpCK",
      "include_colab_link": true
    },
    "kernelspec": {
      "name": "python3",
      "display_name": "Python 3"
    },
    "language_info": {
      "name": "python"
    }
  },
  "cells": [
    {
      "cell_type": "markdown",
      "metadata": {
        "id": "view-in-github",
        "colab_type": "text"
      },
      "source": [
        "<a href=\"https://colab.research.google.com/github/bugatha1/RecommenderSystem/blob/main/Recommender_Systems.ipynb\" target=\"_parent\"><img src=\"https://colab.research.google.com/assets/colab-badge.svg\" alt=\"Open In Colab\"/></a>"
      ]
    },
    {
      "cell_type": "markdown",
      "source": [
        "# Recommender System:\n",
        "A system that predicts ratings or preferences a user might give to an item.    \n",
        "Recommended system recommends to people based on their past behaviour and behaviour of other people."
      ],
      "metadata": {
        "id": "biYqbxwUvve-"
      }
    }
  ]
}